{
 "cells": [
  {
   "cell_type": "code",
   "execution_count": 1,
   "metadata": {},
   "outputs": [],
   "source": [
    "%%capture\n",
    "\n",
    "%pip install requirements.txt"
   ]
  },
  {
   "cell_type": "code",
   "execution_count": 2,
   "metadata": {},
   "outputs": [
    {
     "name": "stdout",
     "output_type": "stream",
     "text": [
      "/Users/timchen2/Desktop/Knowledge-Graph-Chat-demo/venv/bin/python\n"
     ]
    }
   ],
   "source": [
    "import sys\n",
    "print(sys.executable)"
   ]
  },
  {
   "cell_type": "code",
   "execution_count": 4,
   "metadata": {},
   "outputs": [],
   "source": [
    "import os\n",
    "import openai\n",
    "\n",
    "from string import Template\n",
    "import json\n",
    "from neo4j import GraphDatabase\n",
    "import glob # search for files that match a specific file pattern or name\n",
    "\n",
    "from timeit import default_timer as timer\n",
    "from dotenv import load_dotenv\n",
    "from time import sleep\n",
    "import requests\n",
    "\n"
   ]
  },
  {
   "cell_type": "markdown",
   "metadata": {},
   "source": [
    "### 1. Configuration"
   ]
  },
  {
   "cell_type": "code",
   "execution_count": 5,
   "metadata": {},
   "outputs": [
    {
     "data": {
      "text/plain": [
       "True"
      ]
     },
     "execution_count": 5,
     "metadata": {},
     "output_type": "execute_result"
    }
   ],
   "source": [
    "# Load env variables\n",
    "load_dotenv()"
   ]
  },
  {
   "cell_type": "code",
   "execution_count": 6,
   "metadata": {},
   "outputs": [],
   "source": [
    "# Neo4j configuration & constraints\n",
    "neo4j_url = os.getenv(\"NEO4J_URI\")\n",
    "neo4j_user = os.getenv(\"NEO4J_USERNAME\")\n",
    "neo4j_password = os.getenv(\"NEO4J_PASSWORD\")\n",
    "gds = GraphDatabase.driver(neo4j_url, auth=(neo4j_user, neo4j_password))"
   ]
  },
  {
   "cell_type": "markdown",
   "metadata": {},
   "source": [
    "### 2. Helper Function Outline\n",
    "\n",
    "##### Flow : LLM process unstructured data into entities&relationship -> Generate Cypher to \n",
    "\n",
    "#### LLM model\n",
    "##### Function to call the OpenAI API (better performance but need $$)\n",
    "def process_gpt\n",
    "##### Function to call the Ollama API (Opensource free LLM model can be installed on Local as REST API)\n",
    "def process_ollama\n",
    "\n",
    "##### Function to pre-process unstructureed data in order to return JSON-object of all the entities and relationships for building Knowledge Graph\n",
    "def extract_entities_relationships(folder, prompt_template)\n",
    "\n",
    "##### Function to take JSON-object of entities and relationships and generate cypher query for creating those entities\n",
    "def generate_cypher(json_obj)"
   ]
  },
  {
   "cell_type": "code",
   "execution_count": null,
   "metadata": {},
   "outputs": [],
   "source": [
    "def process_ollama(file_prompt, system_msg):\n",
    "    # Combine system message and user prompt\n",
    "    combined_prompt = f\"{system_msg}\\n\\nHuman: {file_prompt}\\n\\n Assistant:\"\n",
    "    \n",
    "    # Ollama API endpoint\n",
    "    url =\"http://localhost:11434/api/generate\"\n",
    "    payload = {\n",
    "        \"model\": \"mistral-custom\",\n",
    "        \"prompt\": combined_prompt,\n",
    "        \"stream\": False\n",
    "    }\n",
    "\n",
    "    try:\n",
    "        response = requests.post(url, json=payload)\n",
    "        response.raise_for_status() # Raise an HTTPError for bad responses\n",
    "\n",
    "        result = response.json()\n",
    "        nlp_results = result['response']\n",
    "    except requests.RequestException as e:\n",
    "        nlp_result = f\"Error: {str(e)}\"\n",
    "    \n",
    "    sleep(8) # Sleep for 8 seconds to avoid overloading the server - Rate Limiting\n",
    "    return nlp_results\n",
    "\n"
   ]
  }
 ],
 "metadata": {
  "kernelspec": {
   "display_name": "venv",
   "language": "python",
   "name": "python3"
  },
  "language_info": {
   "codemirror_mode": {
    "name": "ipython",
    "version": 3
   },
   "file_extension": ".py",
   "mimetype": "text/x-python",
   "name": "python",
   "nbconvert_exporter": "python",
   "pygments_lexer": "ipython3",
   "version": "3.12.6"
  }
 },
 "nbformat": 4,
 "nbformat_minor": 2
}
